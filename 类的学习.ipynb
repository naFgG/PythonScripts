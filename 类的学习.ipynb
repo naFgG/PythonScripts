{
 "cells": [
  {
   "cell_type": "code",
   "id": "initial_id",
   "metadata": {
    "collapsed": true,
    "ExecuteTime": {
     "end_time": "2024-07-29T01:51:51.334490Z",
     "start_time": "2024-07-29T01:51:51.314981Z"
    }
   },
   "source": [
    "# 类的静态方法：通过类或实例调用，但不需要访问类或实例的属性和方法。\n",
    "import sqlalchemy as sql\n",
    "import pandas as pd\n",
    "\n",
    "class mysqlconn:\n",
    "    '''数据接口类'''\n",
    "    @staticmethod\n",
    "    def map_dtype(df):\n",
    "        '''将DataFrame的列类型映射到SQLAlchemy的类型'''\n",
    "        dtype_mapping = {\n",
    "            'int64': sql.types.Integer,\n",
    "            'float64': sql.types.Float,\n",
    "            'object': sql.types.String,\n",
    "            'datetime64[ns]': sql.types.DateTime,\n",
    "            'bool': sql.types.Boolean\n",
    "        }\n",
    "        return {col: dtype_mapping[str(dtype)] for col, dtype in df.dtypes.items()}\n",
    "\n",
    "# 示例用法\n",
    "df = pd.DataFrame({\n",
    "    'a': [1, 2, 3],\n",
    "    'b': [0.1, 0.2, 0.3],\n",
    "    'c': ['foo', 'bar', 'baz'],\n",
    "    'd': [pd.Timestamp('20210101'), pd.Timestamp('20210201'), pd.Timestamp('20210301')],\n",
    "    'e': [True, False, True]\n",
    "})\n",
    "for col, dtype in df.dtypes.items():\n",
    "    print(col, dtype)\n",
    "# 调用静态方法，无需实例化\n",
    "dtype_mapping = mysqlconn.map_dtype(df)\n",
    "print(dtype_mapping)"
   ],
   "outputs": [
    {
     "name": "stdout",
     "output_type": "stream",
     "text": [
      "a int64\n",
      "b float64\n",
      "c object\n",
      "d datetime64[ns]\n",
      "e bool\n",
      "{'a': <class 'sqlalchemy.sql.sqltypes.Integer'>, 'b': <class 'sqlalchemy.sql.sqltypes.Float'>, 'c': <class 'sqlalchemy.sql.sqltypes.String'>, 'd': <class 'sqlalchemy.sql.sqltypes.DateTime'>, 'e': <class 'sqlalchemy.sql.sqltypes.Boolean'>}\n"
     ]
    }
   ],
   "execution_count": 5
  },
  {
   "metadata": {
    "ExecuteTime": {
     "end_time": "2024-07-29T02:03:09.983019Z",
     "start_time": "2024-07-29T02:03:09.977129Z"
    }
   },
   "cell_type": "code",
   "source": [
    "# 类的类方法：通过类或实例调用，能够访问类属性和类方法，使用第一个参数‘cls’代表类本身\n",
    "class MyClass:\n",
    "    @classmethod\n",
    "    def class_method(cls):\n",
    "        return 'class method called', cls\n",
    "\n",
    "print(MyClass.class_method())"
   ],
   "id": "6c326366f2b227fe",
   "outputs": [
    {
     "name": "stdout",
     "output_type": "stream",
     "text": [
      "('class method called', <class '__main__.MyClass'>)\n"
     ]
    }
   ],
   "execution_count": 6
  },
  {
   "metadata": {
    "ExecuteTime": {
     "end_time": "2024-07-29T02:18:40.418742Z",
     "start_time": "2024-07-29T02:18:40.403692Z"
    }
   },
   "cell_type": "code",
   "source": [
    "# 类的实例方法：通过实例调用，能够访问类的实例属性和方法\n",
    "class MyClass:\n",
    "    def instance_method(self):\n",
    "        return 'instance method called', self\n",
    "obj = MyClass()\n",
    "print(obj.instance_method())"
   ],
   "id": "7c63f55c335e0c65",
   "outputs": [
    {
     "name": "stdout",
     "output_type": "stream",
     "text": [
      "('instance method called', <__main__.MyClass object at 0x000002785B820A50>)\n"
     ]
    }
   ],
   "execution_count": 7
  },
  {
   "metadata": {
    "ExecuteTime": {
     "end_time": "2024-07-29T02:49:10.735870Z",
     "start_time": "2024-07-29T02:49:10.728451Z"
    }
   },
   "cell_type": "code",
   "source": [
    "# 类的 self 和 __init__ 方法\n",
    "## self 是类的方法中的第一个参数，指的是类的实例本身。它允许你访问类的属性和方法，并在类的方法中修改这些属性。\n",
    "## __init__ 方法是类的构造方法（或初始化方法）。当你创建类的实例时，Python会自动调用这个方法。你可以在这个方法中初始化对象的属性，或执行任何需要在对象创建时进行的操作。\n",
    "class Dog:\n",
    "    def __init__(self, name, age):\n",
    "        # 初始化对象的属性\n",
    "        self.name = name\n",
    "        self.age = age\n",
    "    \n",
    "    def who_am_i(self):\n",
    "        return self\n",
    "    \n",
    "    def bark(self):\n",
    "        # 使用self访问对象的属性\n",
    "        print(f'{self.name} is barking ! ')\n",
    "        \n",
    "    def get_age(self):\n",
    "        # 返回对象的属性\n",
    "        return self.age\n",
    "\n",
    "# 创建类的实例\n",
    "## 参数包括name和age\n",
    "my_dog = Dog('Rex', 5)\n",
    "# 查看 self 实例化后的结果\n",
    "print(my_dog.who_am_i())\n",
    "# 调用对象的方法\n",
    "my_dog.bark()\n",
    "# 获取对象的属性\n",
    "print(my_dog.get_age())\n"
   ],
   "id": "77494312dc74ae1d",
   "outputs": [
    {
     "name": "stdout",
     "output_type": "stream",
     "text": [
      "<__main__.Dog object at 0x000002785DDF1010>\n",
      "Rex is barking ! \n",
      "5\n"
     ]
    }
   ],
   "execution_count": 10
  },
  {
   "metadata": {
    "ExecuteTime": {
     "end_time": "2024-07-29T05:21:12.229348Z",
     "start_time": "2024-07-29T05:21:12.147444Z"
    }
   },
   "cell_type": "code",
   "source": [
    "# 类的继承\n",
    "## 它允许你创建一个新的类（子类），该类继承另一个类（父类）的属性和方法。\n",
    "## 继承使你能够重用代码，并在现有类的基础上进行扩展和修改。\n",
    "### 父类（基类、超类）：被继承的类\n",
    "### 子类（派生类）：继承父类的类\n",
    "## 子类可以继承父类的所有属性和方法，并且可以添加新的属性和方法，或者重写父类的方法\n",
    "\n",
    "# 定义父类\n",
    "class Animal:\n",
    "    # 初始化 name 属性\n",
    "    def __init__(self, name):\n",
    "        self.name = name\n",
    "    # speak 在父类这种定义，但未实现。这是一种定义抽象方法的方式，要求子类必须实现这个方法\n",
    "    def speak(self):\n",
    "        raise NotImplemented('Subclass must implement abstract method')\n",
    "\n",
    "# 定义子类\n",
    "class Dog(Animal):\n",
    "    def speak(self):\n",
    "        return f'{self.name} says Woof!'\n",
    "\n",
    "class Cat(Animal):\n",
    "    def speak(self):\n",
    "        return f'{self.name} says Meow!'\n",
    "\n",
    "# 创建子类实例\n",
    "dog = Dog('Rex')\n",
    "cat = Cat('Whiskers')\n",
    "# 调用子类方法\n",
    "print(dog.speak())\n",
    "print(cat.speak())"
   ],
   "id": "9916e6a156bdfae",
   "outputs": [
    {
     "name": "stdout",
     "output_type": "stream",
     "text": [
      "Rex says Woof!\n",
      "Whiskers says Meow!\n"
     ]
    },
    {
     "ename": "TypeError",
     "evalue": "'NotImplementedType' object is not callable",
     "output_type": "error",
     "traceback": [
      "\u001B[1;31m---------------------------------------------------------------------------\u001B[0m",
      "\u001B[1;31mTypeError\u001B[0m                                 Traceback (most recent call last)",
      "Cell \u001B[1;32mIn[12], line 33\u001B[0m\n\u001B[0;32m     31\u001B[0m \u001B[38;5;28mprint\u001B[39m(cat\u001B[38;5;241m.\u001B[39mspeak())\n\u001B[0;32m     32\u001B[0m animal \u001B[38;5;241m=\u001B[39m Animal(\u001B[38;5;124m'\u001B[39m\u001B[38;5;124mtest\u001B[39m\u001B[38;5;124m'\u001B[39m)\n\u001B[1;32m---> 33\u001B[0m \u001B[38;5;28mprint\u001B[39m(\u001B[43manimal\u001B[49m\u001B[38;5;241;43m.\u001B[39;49m\u001B[43mspeak\u001B[49m\u001B[43m(\u001B[49m\u001B[43m)\u001B[49m)\n",
      "Cell \u001B[1;32mIn[12], line 15\u001B[0m, in \u001B[0;36mAnimal.speak\u001B[1;34m(self)\u001B[0m\n\u001B[0;32m     14\u001B[0m \u001B[38;5;28;01mdef\u001B[39;00m \u001B[38;5;21mspeak\u001B[39m(\u001B[38;5;28mself\u001B[39m):\n\u001B[1;32m---> 15\u001B[0m     \u001B[38;5;28;01mraise\u001B[39;00m \u001B[38;5;28;43mNotImplemented\u001B[39;49m\u001B[43m(\u001B[49m\u001B[38;5;124;43m'\u001B[39;49m\u001B[38;5;124;43mSubclass must implement abstract method\u001B[39;49m\u001B[38;5;124;43m'\u001B[39;49m\u001B[43m)\u001B[49m\n",
      "\u001B[1;31mTypeError\u001B[0m: 'NotImplementedType' object is not callable"
     ]
    }
   ],
   "execution_count": 12
  },
  {
   "metadata": {
    "ExecuteTime": {
     "end_time": "2024-07-29T05:27:47.872927Z",
     "start_time": "2024-07-29T05:27:47.864617Z"
    }
   },
   "cell_type": "code",
   "source": [
    "# 多重继承\n",
    "class Flyable:\n",
    "    def fly(self):\n",
    "        return 'Flying'\n",
    "\n",
    "class Swimmable:\n",
    "    def swim(self):\n",
    "        return 'Swimming'\n",
    "\n",
    "class Duck(Flyable, Swimmable):\n",
    "    pass\n",
    "\n",
    "duck = Duck()\n",
    "print(duck.fly())\n",
    "print(duck.swim())"
   ],
   "id": "7204bd31e5074258",
   "outputs": [
    {
     "name": "stdout",
     "output_type": "stream",
     "text": [
      "Flying\n",
      "Swimming\n"
     ]
    }
   ],
   "execution_count": 13
  },
  {
   "metadata": {},
   "cell_type": "code",
   "outputs": [],
   "execution_count": null,
   "source": "",
   "id": "c616f771de95ab3d"
  }
 ],
 "metadata": {
  "kernelspec": {
   "display_name": "Python 3",
   "language": "python",
   "name": "python3"
  },
  "language_info": {
   "codemirror_mode": {
    "name": "ipython",
    "version": 2
   },
   "file_extension": ".py",
   "mimetype": "text/x-python",
   "name": "python",
   "nbconvert_exporter": "python",
   "pygments_lexer": "ipython2",
   "version": "2.7.6"
  }
 },
 "nbformat": 4,
 "nbformat_minor": 5
}
