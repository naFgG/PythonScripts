{
 "cells": [
  {
   "cell_type": "code",
   "id": "initial_id",
   "metadata": {
    "collapsed": true,
    "ExecuteTime": {
     "end_time": "2024-07-29T07:34:34.604731Z",
     "start_time": "2024-07-29T07:34:34.598559Z"
    }
   },
   "source": [
    "from sqlalchemy import create_engine, MetaData\n",
    "\n",
    "# 创建数据库引擎\n",
    "engine = create_engine('sqlite:///example.db', echo=True)\n",
    "# 创建元数据对象，用于保存表定义\n",
    "metadata =MetaData()"
   ],
   "outputs": [],
   "execution_count": 32
  },
  {
   "metadata": {},
   "cell_type": "code",
   "source": [
    "from sqlalchemy import Table, Column, Integer, String, Sequence\n",
    "\n",
    "# 定义表结构\n",
    "# 表名为 user， metadata 是一个包含表定义的容器，管理着表和数据库模式的集合。\n",
    "user_table = Table('user', metadata,\n",
    "                   # Column 定义了表中的一列，id 是列的名称。\n",
    "                   # Integer 指定该列的数据类型为整数。 \n",
    "                   # Sequence('user_id_seq') 指定一个序列，用于自动生成唯一的ID值。\n",
    "                   # primary_key=True 指定该列是主键，表中每行的唯一标识符。\n",
    "                   Column('id', Integer, Sequence('user_id_seq'), primary_key=True),\n",
    "                   Column('name', String(50)),\n",
    "                   Column('age', Integer))\n",
    "# 创建所有由 metadata 定义的表，这里是 user_table\n",
    "metadata.create_all(engine)"
   ],
   "id": "c095b8d84e3bdfc",
   "outputs": [],
   "execution_count": null
  },
  {
   "metadata": {},
   "cell_type": "code",
   "source": [
    "from sqlalchemy import insert\n",
    "\n",
    "# engine.connect()创建一个数据库连接，并在 with 区块结束时自动关闭连接\n",
    "with engine.connect() as connection:\n",
    "    # 插入数据，指定目标表为 user_table，.values设置要插入的行数据，指定 name 列的值为 John Doe，age 列的值为 100\n",
    "    stmt = insert(user_table).values(name='John Doe', age=100)\n",
    "    # 执行插入操作 stmt ，将数据插入到数据库中\n",
    "    result = connection.execute(stmt)\n",
    "    print('插入的行ID: ', result.inserted_primary_key)"
   ],
   "id": "1ba51d43a68073b2",
   "outputs": [],
   "execution_count": null
  },
  {
   "metadata": {},
   "cell_type": "code",
   "source": [
    "from sqlalchemy import select\n",
    "\n",
    "# 查询数据\n",
    "with engine.connect() as connection:\n",
    "    stmt = select(user_table)\n",
    "    result = connection.execute(stmt)\n",
    "    for row in result:\n",
    "        print('ID: ', row['id'], 'Name: ', row['name'], 'Age: ', row['age'])\n"
   ],
   "id": "46b41ad27cf30084",
   "outputs": [],
   "execution_count": null
  },
  {
   "metadata": {},
   "cell_type": "code",
   "source": [
    "from sqlalchemy import update\n",
    "\n",
    "# 更新数据\n",
    "with engine.connect() as connection:\n",
    "    stmt = update(user_table).where(user_table.c.name == 'John Doe').values(age=30)\n",
    "    result = connection.execute(stmt)\n",
    "    print('更新的行数: ', result.rowcount)"
   ],
   "id": "544b259c2a63b6ed",
   "outputs": [],
   "execution_count": null
  },
  {
   "metadata": {},
   "cell_type": "code",
   "source": [
    "from sqlalchemy import delete\n",
    "\n",
    "# 删除数据\n",
    "with engine.connect() as connection:\n",
    "    stmt = delete(user_table).where(user_table.c.name == 'John Doe')\n",
    "    result = connection.execute(stmt)\n",
    "    print('删除的行数: ', result.rowcount)"
   ],
   "id": "c87fd0db86b17a3c",
   "outputs": [],
   "execution_count": null
  },
  {
   "metadata": {},
   "cell_type": "code",
   "source": [
    "# 使用 ORM 映射类\n",
    "from sqlalchemy.orm import sessionmaker, declarative_base\n",
    "\n",
    "# 创建基类\n",
    "Base = declarative_base()\n",
    "\n",
    "# 定义映射类\n",
    "class User(Base):\n",
    "    __tablename__ = 'user'\n",
    "    \n",
    "    id = Column(Integer, Sequence('user_id_seq'), primary_key=True)\n",
    "    name = Column(String(50))\n",
    "    age = Column(Integer)\n",
    "    \n",
    "    def __repr__(self):\n",
    "        return f'<User(name={self.name}, age={self.age})>'\n",
    "\n",
    "# 创建所有表\n",
    "Base.metadata.create_all(engine)\n",
    "\n",
    "# 创建会话\n",
    "Session = sessionmaker(bind=engine)\n",
    "session = Session()\n",
    "\n",
    "# 插入数据\n",
    "new_user = User(name='John', age=30)\n",
    "session.add(new_user)\n",
    "session.commit()\n",
    "\n",
    "# 查询数据\n",
    "users = session.query(User).all()\n",
    "for user in users:\n",
    "    print(user.id, user.name, user.age)\n",
    "\n",
    "# 更新数据\n",
    "user = session.query(User).filter_by(name='John').first()\n",
    "user.age = 100\n",
    "session.commit()\n",
    "\n",
    "# 删除数据\n",
    "user = session.query(User).filter_by(name='John').first()\n",
    "session.delete(user)\n",
    "session.commit()\n"
   ],
   "id": "97293a695395f0a6",
   "outputs": [],
   "execution_count": null
  },
  {
   "metadata": {},
   "cell_type": "code",
   "outputs": [],
   "execution_count": null,
   "source": "",
   "id": "ca1a949c76a0c268"
  }
 ],
 "metadata": {
  "kernelspec": {
   "display_name": "Python 3",
   "language": "python",
   "name": "python3"
  },
  "language_info": {
   "codemirror_mode": {
    "name": "ipython",
    "version": 2
   },
   "file_extension": ".py",
   "mimetype": "text/x-python",
   "name": "python",
   "nbconvert_exporter": "python",
   "pygments_lexer": "ipython2",
   "version": "2.7.6"
  }
 },
 "nbformat": 4,
 "nbformat_minor": 5
}
